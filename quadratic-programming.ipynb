{
 "cells": [
  {
   "cell_type": "code",
   "execution_count": 1,
   "metadata": {},
   "outputs": [],
   "source": [
    "from mpl_toolkits.mplot3d import Axes3D\n",
    "import matplotlib.pyplot as plt\n",
    "import numpy as np"
   ]
  },
  {
   "cell_type": "code",
   "execution_count": null,
   "metadata": {},
   "outputs": [],
   "source": [
    "fig = plt.figure()\n",
    "ax = fig.add_subplot(111, projection='3d')\n",
    "ax.set_title('Minimize $\\\\frac{1}{2} (x_1^2 + x_2^2)$ subject to$x_1 + x_2 - 1 \\\\geq 0$' '\\n'\n",
    "             'Example from Support Vector Machines without Tears')\n",
    "\n",
    "SIZE = 100\n",
    "STEP = 0.5\n",
    "X = np.arange(-SIZE, SIZE, STEP)\n",
    "Y = np.arange(-SIZE, SIZE, STEP)\n",
    "X, Y = np.meshgrid(X, Y)\n",
    "Z = np.sqrt(X**2+Y**2)\n",
    "\n",
    "ax.scatter(X, Y, Z, color='b')\n",
    "\n",
    "X = np.arange(-SIZE, SIZE, STEP)\n",
    "Y = np.arange(-SIZE, SIZE, STEP)\n",
    "X, Y = np.meshgrid(X, Y)\n",
    "Z = X+Y-1\n",
    "\n",
    "ax.scatter(X, Y, Z, color='g')"
   ]
  },
  {
   "cell_type": "code",
   "execution_count": null,
   "metadata": {},
   "outputs": [],
   "source": []
  }
 ],
 "metadata": {
  "kernelspec": {
   "display_name": "Python 3",
   "language": "python",
   "name": "python3"
  },
  "language_info": {
   "codemirror_mode": {
    "name": "ipython",
    "version": 3
   },
   "file_extension": ".py",
   "mimetype": "text/x-python",
   "name": "python",
   "nbconvert_exporter": "python",
   "pygments_lexer": "ipython3",
   "version": "3.5.3"
  }
 },
 "nbformat": 4,
 "nbformat_minor": 2
}
